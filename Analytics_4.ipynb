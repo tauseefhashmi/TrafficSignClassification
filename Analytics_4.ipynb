{
  "nbformat": 4,
  "nbformat_minor": 0,
  "metadata": {
    "colab": {
      "name": "Analytics-4.ipynb",
      "provenance": [],
      "collapsed_sections": [
        "KVvW2_UK4hbS",
        "CEQT3_hO4jMc"
      ],
      "mount_file_id": "1_aMTb7GCm13uQby0LBRyenJub7wP4h8q",
      "authorship_tag": "ABX9TyMNpGAIirjks/giTZAc4fLS",
      "include_colab_link": true
    },
    "kernelspec": {
      "name": "python3",
      "display_name": "Python 3"
    },
    "language_info": {
      "name": "python"
    },
    "accelerator": "GPU"
  },
  "cells": [
    {
      "cell_type": "markdown",
      "metadata": {
        "id": "view-in-github",
        "colab_type": "text"
      },
      "source": [
        "<a href=\"https://colab.research.google.com/github/tauseefhashmi/TrafficSignClassification/blob/main/Analytics_4.ipynb\" target=\"_parent\"><img src=\"https://colab.research.google.com/assets/colab-badge.svg\" alt=\"Open In Colab\"/></a>"
      ]
    },
    {
      "cell_type": "code",
      "metadata": {
        "id": "kMwm1F-Fktke"
      },
      "source": [
        "# !pip install keras\n",
        "# !pip install tensorflow\n",
        "# !pip install pandas \n",
        "# !pip install sklearn \n",
        "# !pip install matplotlib \n",
        "!pip install -U efficientnet\n"
      ],
      "execution_count": null,
      "outputs": []
    },
    {
      "cell_type": "code",
      "metadata": {
        "id": "BfFakabDGQ8F"
      },
      "source": [
        "import os \n",
        "import zipfile \n",
        "import tensorflow as tf \n",
        "from tensorflow.keras.preprocessing.image import ImageDataGenerator \n",
        "from tensorflow.keras import layers \n",
        "from tensorflow.keras import Model \n",
        "import matplotlib.pyplot as plt\n",
        "from zipfile import *\n",
        "import efficientnet.keras as efn\n",
        "from tensorflow.python.keras.layers import Dense, Flatten, GlobalAveragePooling2D"
      ],
      "execution_count": 15,
      "outputs": []
    },
    {
      "cell_type": "code",
      "metadata": {
        "id": "DBZfVlj4Dw_x"
      },
      "source": [
        "!unzip -q /content/drive/MyDrive/GoogleCollabWork/Traffic.zip -d /content/drive/MyDrive/GoogleCollabWork/Traffic1  #unzip data in tmp/"
      ],
      "execution_count": null,
      "outputs": []
    },
    {
      "cell_type": "code",
      "metadata": {
        "id": "jjkYBpBUkrZ4"
      },
      "source": [
        "base_dir = '/content/drive/MyDrive/GoogleCollabWork/Traffic1'\n",
        "train_dir = '/content/drive/MyDrive/GoogleCollabWork/Traffic1/Train'\n",
        "validation_dir ='/content/drive/MyDrive/GoogleCollabWork/Traffic1/Test'\n"
      ],
      "execution_count": 3,
      "outputs": []
    },
    {
      "cell_type": "code",
      "metadata": {
        "id": "WdqHnrKOGjAP"
      },
      "source": [
        "# Set up matplotlib fig, and size it to fit 4x4 pics\n",
        "import matplotlib.image as mpimg\n",
        "nrows = 4\n",
        "ncols = 4\n",
        "\n",
        "fig = plt.gcf()\n",
        "fig.set_size_inches(ncols*4, nrows*4)\n",
        "pic_index = 100\n",
        "train_traffic_fnames = os.listdir(train_dir)\n",
        "\n",
        "next_cat_pix = [os.path.join(train_dir, fname) \n",
        "                for fname in train_traffic_fnames[ pic_index-8:pic_index] \n",
        "               ]\n",
        "\n",
        "for i, img_path in enumerate(next_cat_pix):\n",
        "  # Set up subplot; subplot indices start at 1\n",
        "  sp = plt.subplot(nrows, ncols, i + 1)\n",
        "  sp.axis('Off') # Don't show axes (or gridlines)\n",
        "\n",
        "  img = mpimg.imread(img_path)\n",
        "  plt.imshow(img)\n",
        "\n",
        "plt.show()"
      ],
      "execution_count": null,
      "outputs": []
    },
    {
      "cell_type": "code",
      "metadata": {
        "colab": {
          "base_uri": "https://localhost:8080/"
        },
        "id": "vmYkBy0oyAR1",
        "outputId": "9f539d00-9daf-49af-d532-371e7875988a"
      },
      "source": [
        "# Add our data-augmentation parameters to ImageDataGenerator\n",
        "\n",
        "train_datagen = ImageDataGenerator(rescale = 1./255., rotation_range = 40, width_shift_range = 0.2, height_shift_range = 0.2, shear_range = 0.2, zoom_range = 0.2, horizontal_flip = True)\n",
        "\n",
        "test_datagen = ImageDataGenerator(rescale = 1.0/255.)\n",
        "\n",
        "train_generator = train_datagen.flow_from_directory(train_dir, batch_size = 20, class_mode = 'binary', target_size = (224, 224))\n",
        "\n",
        "validation_generator = test_datagen.flow_from_directory( validation_dir, batch_size = 20, class_mode = 'binary', target_size = (224, 224))"
      ],
      "execution_count": 5,
      "outputs": [
        {
          "output_type": "stream",
          "text": [
            "Found 39209 images belonging to 43 classes.\n",
            "Found 0 images belonging to 0 classes.\n"
          ],
          "name": "stdout"
        }
      ]
    },
    {
      "cell_type": "code",
      "metadata": {
        "id": "evfYX87LijRf"
      },
      "source": [
        "import efficientnet.keras as efn"
      ],
      "execution_count": 6,
      "outputs": []
    },
    {
      "cell_type": "code",
      "metadata": {
        "id": "0nSOhU8B7AHY",
        "colab": {
          "base_uri": "https://localhost:8080/"
        },
        "outputId": "fadd6016-28ba-4399-e75f-cd131cd8ef3a"
      },
      "source": [
        "from tensorflow.keras.applications import EfficientNetB0\n",
        "model = EfficientNetB0(input_shape = (224, 224, 3), include_top = False, weights = 'imagenet')"
      ],
      "execution_count": 9,
      "outputs": [
        {
          "output_type": "stream",
          "text": [
            "Downloading data from https://storage.googleapis.com/keras-applications/efficientnetb0_notop.h5\n",
            "16711680/16705208 [==============================] - 0s 0us/step\n"
          ],
          "name": "stdout"
        }
      ]
    },
    {
      "cell_type": "code",
      "metadata": {
        "id": "QLUwKY6SPiVd"
      },
      "source": [
        "for layer in model.layers:\n",
        "    layer.trainable = False"
      ],
      "execution_count": 13,
      "outputs": []
    },
    {
      "cell_type": "code",
      "metadata": {
        "id": "lNkrjBvhyOWw"
      },
      "source": [
        "x = model.output\n",
        "x = Flatten()(x)\n",
        "x = Dense(1024, activation=\"relu\")(x)\n",
        "x = layers.Dropout(0.5)(x)\n",
        "predictions = Dense(1, activation=\"sigmoid\")(x)\n",
        "model_final = Model(model.input, predictions)"
      ],
      "execution_count": 18,
      "outputs": []
    },
    {
      "cell_type": "code",
      "metadata": {
        "id": "3EeEKw0yyRm3",
        "colab": {
          "base_uri": "https://localhost:8080/"
        },
        "outputId": "e13e33c4-2427-4aa3-8256-d9d029fdf07f"
      },
      "source": [
        "model_final.compile(tf.keras.optimizers.RMSprop(lr=0.0001, decay=1e-6),loss='binary_crossentropy',metrics=['accuracy'])\n"
      ],
      "execution_count": 21,
      "outputs": [
        {
          "output_type": "stream",
          "text": [
            "/usr/local/lib/python3.7/dist-packages/tensorflow/python/keras/optimizer_v2/optimizer_v2.py:375: UserWarning: The `lr` argument is deprecated, use `learning_rate` instead.\n",
            "  \"The `lr` argument is deprecated, use `learning_rate` instead.\")\n"
          ],
          "name": "stderr"
        }
      ]
    },
    {
      "cell_type": "code",
      "metadata": {
        "id": "Ai1eTmGMyUuU",
        "colab": {
          "base_uri": "https://localhost:8080/"
        },
        "outputId": "3d0aa600-84ec-410e-b89b-255abc2db1f2"
      },
      "source": [
        "eff_history = model_final.fit_generator(train_generator, validation_data = validation_generator, steps_per_epoch = 100, epochs = 10)\n"
      ],
      "execution_count": null,
      "outputs": [
        {
          "output_type": "stream",
          "text": [
            "/usr/local/lib/python3.7/dist-packages/tensorflow/python/keras/engine/training.py:1940: UserWarning: `Model.fit_generator` is deprecated and will be removed in a future version. Please use `Model.fit`, which supports generators.\n",
            "  warnings.warn('`Model.fit_generator` is deprecated and '\n"
          ],
          "name": "stderr"
        },
        {
          "output_type": "stream",
          "text": [
            "Epoch 1/10\n",
            "100/100 [==============================] - 462s 4s/step - loss: -23276.0449 - accuracy: 0.0595\n",
            "Epoch 2/10\n",
            "100/100 [==============================] - 363s 4s/step - loss: -79866.7266 - accuracy: 0.0570\n",
            "Epoch 3/10\n",
            "100/100 [==============================] - 337s 3s/step - loss: -159211.5312 - accuracy: 0.0555\n",
            "Epoch 4/10\n",
            "100/100 [==============================] - 320s 3s/step - loss: -247016.2344 - accuracy: 0.0525\n",
            "Epoch 5/10\n",
            "100/100 [==============================] - 317s 3s/step - loss: -361018.5000 - accuracy: 0.0498\n",
            "Epoch 6/10\n",
            "100/100 [==============================] - 303s 3s/step - loss: -491751.2500 - accuracy: 0.0555\n",
            "Epoch 7/10\n",
            "100/100 [==============================] - 283s 3s/step - loss: -631956.8750 - accuracy: 0.0590\n",
            "Epoch 8/10\n",
            "100/100 [==============================] - 267s 3s/step - loss: -805892.7500 - accuracy: 0.0533\n",
            "Epoch 9/10\n",
            "100/100 [==============================] - 254s 3s/step - loss: -975024.5000 - accuracy: 0.0545\n",
            "Epoch 10/10\n",
            " 86/100 [========================>.....] - ETA: 34s - loss: -1172893.3750 - accuracy: 0.0576"
          ],
          "name": "stdout"
        }
      ]
    },
    {
      "cell_type": "markdown",
      "metadata": {
        "id": "KVvW2_UK4hbS"
      },
      "source": [
        "#VGG"
      ]
    },
    {
      "cell_type": "code",
      "metadata": {
        "id": "tefPCvrO4nzU"
      },
      "source": [
        ""
      ],
      "execution_count": null,
      "outputs": []
    },
    {
      "cell_type": "code",
      "metadata": {
        "id": "sUPkJm9i4moq"
      },
      "source": [
        ""
      ],
      "execution_count": null,
      "outputs": []
    },
    {
      "cell_type": "markdown",
      "metadata": {
        "id": "CEQT3_hO4jMc"
      },
      "source": [
        "#ResNet"
      ]
    },
    {
      "cell_type": "code",
      "metadata": {
        "id": "BNFaaUgI4nL7"
      },
      "source": [
        ""
      ],
      "execution_count": null,
      "outputs": []
    },
    {
      "cell_type": "code",
      "metadata": {
        "id": "EiPAbRMp4ogB"
      },
      "source": [
        ""
      ],
      "execution_count": null,
      "outputs": []
    },
    {
      "cell_type": "markdown",
      "metadata": {
        "id": "XfPaDo_E8H9i"
      },
      "source": [
        "#FLASK DEPLOYMENT"
      ]
    },
    {
      "cell_type": "code",
      "metadata": {
        "id": "33mx7vy9yVe8"
      },
      "source": [
        "from flask import Flask\n",
        "from flask_ngrok import run_with_ngrok\n",
        "app = Flask(__name__)\n",
        "run_with_ngrok(app)   \n",
        "  \n",
        "@app.route(\"/\")\n",
        "def home():\n",
        "    return \"<h1>GFG is great platform to learn</h1>\"\n",
        "    \n",
        "app.run()"
      ],
      "execution_count": null,
      "outputs": []
    }
  ]
}